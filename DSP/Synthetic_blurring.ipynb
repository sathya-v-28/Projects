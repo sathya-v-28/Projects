{
 "cells": [
  {
   "cell_type": "code",
   "execution_count": 3,
   "id": "1a30b6bb-982a-4df0-a6ca-ef98836fc350",
   "metadata": {},
   "outputs": [
    {
     "name": "stdout",
     "output_type": "stream",
     "text": [
      "✅ Saved left/right blurred images to: C:\\Users\\HP\\Desktop\\content\\input\\img1\n",
      "✅ Saved left/right blurred images to: C:\\Users\\HP\\Desktop\\content\\input\\img2\n",
      "✅ Saved left/right blurred images to: C:\\Users\\HP\\Desktop\\content\\input\\img3\n",
      "✅ Saved left/right blurred images to: C:\\Users\\HP\\Desktop\\content\\input\\img4\n",
      "✅ Saved left/right blurred images to: C:\\Users\\HP\\Desktop\\content\\input\\img5\n",
      "✅ Saved left/right blurred images to: C:\\Users\\HP\\Desktop\\content\\input\\img6\n",
      "✅ Saved left/right blurred images to: C:\\Users\\HP\\Desktop\\content\\input\\img7\n",
      "✅ Saved left/right blurred images to: C:\\Users\\HP\\Desktop\\content\\input\\img8\n",
      "✅ Saved left/right blurred images to: C:\\Users\\HP\\Desktop\\content\\input\\img9\n",
      "✅ Saved left/right blurred images to: C:\\Users\\HP\\Desktop\\content\\input\\img10\n",
      "✅ Saved left/right blurred images to: C:\\Users\\HP\\Desktop\\content\\input\\img11\n",
      "✅ Saved left/right blurred images to: C:\\Users\\HP\\Desktop\\content\\input\\img12\n",
      "✅ Saved left/right blurred images to: C:\\Users\\HP\\Desktop\\content\\input\\img13\n",
      "✅ Saved left/right blurred images to: C:\\Users\\HP\\Desktop\\content\\input\\img14\n",
      "✅ Saved left/right blurred images to: C:\\Users\\HP\\Desktop\\content\\input\\img15\n",
      "✅ Saved left/right blurred images to: C:\\Users\\HP\\Desktop\\content\\input\\img16\n",
      "✅ Saved left/right blurred images to: C:\\Users\\HP\\Desktop\\content\\input\\img17\n",
      "✅ Saved left/right blurred images to: C:\\Users\\HP\\Desktop\\content\\input\\img18\n",
      "✅ Saved left/right blurred images to: C:\\Users\\HP\\Desktop\\content\\input\\img19\n"
     ]
    }
   ],
   "source": [
    "import os\n",
    "import cv2\n",
    "import numpy as np\n",
    "\n",
    "def apply_soft_blur(image, direction='left', kernel_size=31):\n",
    "    \"\"\"\n",
    "    Applies smooth directional blur to one side (left/right) of the image using a soft gradient mask.\n",
    "    \"\"\"\n",
    "    h, w = image.shape[:2]\n",
    "\n",
    "    if direction == 'left':\n",
    "        gradient = np.linspace(1, 0, w)\n",
    "    elif direction == 'right':\n",
    "        gradient = np.linspace(0, 1, w)\n",
    "    else:\n",
    "        raise ValueError(\"Direction must be 'left' or 'right'\")\n",
    "\n",
    "    mask = np.tile(gradient, (h, 1)).astype(np.float32)\n",
    "    mask = cv2.merge([mask, mask, mask])  # Convert to 3 channels\n",
    "\n",
    "    blurred = cv2.GaussianBlur(image, (kernel_size, kernel_size), 0)\n",
    "    soft_blurred = image * (1 - mask) + blurred * mask\n",
    "    return np.clip(soft_blurred, 0, 1)\n",
    "\n",
    "def generate_blur_pairs(main_dir, input_dir):\n",
    "    \"\"\"\n",
    "    Loads sharp images from 'main_dir', applies soft left/right blur, and saves them in structured folders under 'input_dir'.\n",
    "    \"\"\"\n",
    "    os.makedirs(input_dir, exist_ok=True)\n",
    "\n",
    "    image_files = sorted([\n",
    "        f for f in os.listdir(main_dir)\n",
    "        if f.lower().endswith(('.jpg', '.jpeg', '.png'))\n",
    "    ])\n",
    "\n",
    "    for idx, filename in enumerate(image_files, start=1):\n",
    "        img_path = os.path.join(main_dir, filename)\n",
    "        img = cv2.imread(img_path)\n",
    "\n",
    "        if img is None:\n",
    "            print(f\"⚠️ Skipping {filename}: unable to load.\")\n",
    "            continue\n",
    "\n",
    "        img = img.astype(np.float32) / 255.0  # Normalize\n",
    "\n",
    "        left_blur = apply_soft_blur(img, 'left')\n",
    "        right_blur = apply_soft_blur(img, 'right')\n",
    "\n",
    "        pair_folder = os.path.join(input_dir, f\"img{idx}\")\n",
    "        os.makedirs(pair_folder, exist_ok=True)\n",
    "\n",
    "        cv2.imwrite(os.path.join(pair_folder, 'left.png'), (left_blur * 255).astype(np.uint8))\n",
    "        cv2.imwrite(os.path.join(pair_folder, 'right.png'), (right_blur * 255).astype(np.uint8))\n",
    "\n",
    "        print(f\"✅ Saved left/right blurred images to: {pair_folder}\")\n",
    "\n",
    "# 🔧 Modify these paths as needed\n",
    "main_folder = r\"C:\\Users\\HP\\Desktop\\content\\main\"\n",
    "output_input_folder = r\"C:\\Users\\HP\\Desktop\\content\\input\"\n",
    "\n",
    "generate_blur_pairs(main_folder, output_input_folder)\n"
   ]
  },
  {
   "cell_type": "code",
   "execution_count": null,
   "id": "1b26c612-2747-443b-a85b-b393a24f1d86",
   "metadata": {},
   "outputs": [],
   "source": []
  }
 ],
 "metadata": {
  "kernelspec": {
   "display_name": "Python [conda env:base] *",
   "language": "python",
   "name": "conda-base-py"
  },
  "language_info": {
   "codemirror_mode": {
    "name": "ipython",
    "version": 3
   },
   "file_extension": ".py",
   "mimetype": "text/x-python",
   "name": "python",
   "nbconvert_exporter": "python",
   "pygments_lexer": "ipython3",
   "version": "3.12.7"
  }
 },
 "nbformat": 4,
 "nbformat_minor": 5
}
